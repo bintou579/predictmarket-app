{
 "cells": [
  {
   "cell_type": "code",
   "execution_count": 1,
   "metadata": {},
   "outputs": [],
   "source": [
    "import pandas as pd\n",
    "import numpy as np\n",
    "import re\n",
    "from nltk.sentiment.vader import SentimentIntensityAnalyzer\n",
    "import nltk\n",
    "#from textblob import TexBlob\n",
    "from sklearn.model_selection import train_test_split\n",
    "from sklearn.discriminant_analysis import LinearDiscriminantAnalysis\n",
    "from sklearn.metrics import classification_report\n"
   ]
  },
  {
   "cell_type": "markdown",
   "metadata": {},
   "source": [
    "# Get data news API "
   ]
  },
  {
   "cell_type": "code",
   "execution_count": 3,
   "metadata": {},
   "outputs": [],
   "source": [
    "from urllib.request import Request, urlopen\n",
    "import json\n",
    "\n",
    "import pandas as pd    \n",
    "\n",
    "request=Request('https://stocknewsapi.com/api/v1?tickers=SNY&items=50&token=8gzujl...')\n",
    "response = urlopen(request)\n",
    "news = response.read()\n",
    "news_data = json.loads(news)\n",
    "df = pd.json_normalize(news_data['data'])"
   ]
  },
  {
   "cell_type": "code",
   "execution_count": 5,
   "metadata": {},
   "outputs": [
    {
     "data": {
      "text/html": [
       "<div>\n",
       "<style scoped>\n",
       "    .dataframe tbody tr th:only-of-type {\n",
       "        vertical-align: middle;\n",
       "    }\n",
       "\n",
       "    .dataframe tbody tr th {\n",
       "        vertical-align: top;\n",
       "    }\n",
       "\n",
       "    .dataframe thead th {\n",
       "        text-align: right;\n",
       "    }\n",
       "</style>\n",
       "<table border=\"1\" class=\"dataframe\">\n",
       "  <thead>\n",
       "    <tr style=\"text-align: right;\">\n",
       "      <th></th>\n",
       "      <th>date</th>\n",
       "      <th>title</th>\n",
       "      <th>sentiment</th>\n",
       "    </tr>\n",
       "  </thead>\n",
       "  <tbody>\n",
       "    <tr>\n",
       "      <th>0</th>\n",
       "      <td>Mon, 14 Sep 2020 09:51:00 -0400</td>\n",
       "      <td>Sanofi's Dupixent Gets Breakthrough Status for...</td>\n",
       "      <td>Positive</td>\n",
       "    </tr>\n",
       "    <tr>\n",
       "      <th>1</th>\n",
       "      <td>Fri, 11 Sep 2020 12:00:00 -0400</td>\n",
       "      <td>Sanofi : Information concerning the total numb...</td>\n",
       "      <td>Neutral</td>\n",
       "    </tr>\n",
       "    <tr>\n",
       "      <th>2</th>\n",
       "      <td>Fri, 11 Sep 2020 11:30:14 -0400</td>\n",
       "      <td>Has Sanofi (SNY) Outpaced Other Medical Stocks...</td>\n",
       "      <td>Positive</td>\n",
       "    </tr>\n",
       "    <tr>\n",
       "      <th>3</th>\n",
       "      <td>Fri, 11 Sep 2020 09:16:00 -0400</td>\n",
       "      <td>7 Solid Low Price-to-Sales Picks With Room for...</td>\n",
       "      <td>Positive</td>\n",
       "    </tr>\n",
       "    <tr>\n",
       "      <th>4</th>\n",
       "      <td>Fri, 11 Sep 2020 07:04:00 -0400</td>\n",
       "      <td>Big Pharma wages stealth war on drug price wat...</td>\n",
       "      <td>Negative</td>\n",
       "    </tr>\n",
       "  </tbody>\n",
       "</table>\n",
       "</div>"
      ],
      "text/plain": [
       "                              date  \\\n",
       "0  Mon, 14 Sep 2020 09:51:00 -0400   \n",
       "1  Fri, 11 Sep 2020 12:00:00 -0400   \n",
       "2  Fri, 11 Sep 2020 11:30:14 -0400   \n",
       "3  Fri, 11 Sep 2020 09:16:00 -0400   \n",
       "4  Fri, 11 Sep 2020 07:04:00 -0400   \n",
       "\n",
       "                                               title sentiment  \n",
       "0  Sanofi's Dupixent Gets Breakthrough Status for...  Positive  \n",
       "1  Sanofi : Information concerning the total numb...   Neutral  \n",
       "2  Has Sanofi (SNY) Outpaced Other Medical Stocks...  Positive  \n",
       "3  7 Solid Low Price-to-Sales Picks With Room for...  Positive  \n",
       "4  Big Pharma wages stealth war on drug price wat...  Negative  "
      ]
     },
     "execution_count": 5,
     "metadata": {},
     "output_type": "execute_result"
    }
   ],
   "source": [
    "df = df[['date', 'title', 'sentiment']]\n",
    "df.head()"
   ]
  },
  {
   "cell_type": "code",
   "execution_count": 6,
   "metadata": {},
   "outputs": [],
   "source": [
    "df['date'] = df['date'].str.extract(r'(\\d\\d\\s(?:Jan|Feb|Mar|Apr|May|Jun|Jul|Aug|Sep|Oct|Nov|Dec)\\s\\d{4})')"
   ]
  },
  {
   "cell_type": "code",
   "execution_count": 7,
   "metadata": {},
   "outputs": [],
   "source": [
    "df['date'] = pd.to_datetime(df.date).dt.strftime('%d-%m-%Y')"
   ]
  },
  {
   "cell_type": "code",
   "execution_count": 8,
   "metadata": {},
   "outputs": [],
   "source": [
    "df['date'] = pd.to_datetime(df.date).dt.strftime('%Y-%m-%d')"
   ]
  },
  {
   "cell_type": "code",
   "execution_count": 9,
   "metadata": {},
   "outputs": [
    {
     "data": {
      "text/plain": [
       "array(['2020-09-14', '2020-11-09', '2020-09-09', '2020-08-09',\n",
       "       '2020-07-09', '2020-05-09', '2020-04-09', '2020-03-09',\n",
       "       '2020-01-09', '2020-08-30', '2020-08-28', '2020-08-26',\n",
       "       '2020-08-24', '2020-08-19', '2020-08-17'], dtype=object)"
      ]
     },
     "execution_count": 9,
     "metadata": {},
     "output_type": "execute_result"
    }
   ],
   "source": [
    "df.date.unique()"
   ]
  },
  {
   "cell_type": "code",
   "execution_count": 10,
   "metadata": {},
   "outputs": [],
   "source": [
    "df['sentiment'] = df.sentiment.replace({'Neutral':0, 'Positive':1, 'Negative':-1})"
   ]
  },
  {
   "cell_type": "code",
   "execution_count": 11,
   "metadata": {},
   "outputs": [
    {
     "data": {
      "text/plain": [
       "{'neg': 0.0,\n",
       " 'neu': 1.0,\n",
       " 'pos': 0.0,\n",
       " 'compound': 0.0,\n",
       " 'headline': \"Sanofi's Dupixent Gets Breakthrough Status for New Indication\"}"
      ]
     },
     "execution_count": 11,
     "metadata": {},
     "output_type": "execute_result"
    }
   ],
   "source": [
    "from nltk.sentiment.vader import SentimentIntensityAnalyzer as SIA\n",
    "\n",
    "results = []\n",
    "\n",
    "for headline in df['title']:\n",
    "    pol_score = SIA().polarity_scores(headline) # run analysis\n",
    "    pol_score['headline'] = headline # add headlines for viewing\n",
    "    results.append(pol_score)\n",
    "\n",
    "results[0]"
   ]
  },
  {
   "cell_type": "markdown",
   "metadata": {},
   "source": [
    "We concatenate this list to our original dataframe"
   ]
  },
  {
   "cell_type": "code",
   "execution_count": 11,
   "metadata": {},
   "outputs": [],
   "source": [
    "df['Compound'] = pd.DataFrame(results)['compound']\n",
    "df['positive'] = pd.DataFrame(results)['pos']\n",
    "df['Negative'] = pd.DataFrame(results)['neg']\n",
    "df['Neutral'] = pd.DataFrame(results)['neu']"
   ]
  },
  {
   "cell_type": "code",
   "execution_count": 12,
   "metadata": {},
   "outputs": [
    {
     "data": {
      "text/html": [
       "<div>\n",
       "<style scoped>\n",
       "    .dataframe tbody tr th:only-of-type {\n",
       "        vertical-align: middle;\n",
       "    }\n",
       "\n",
       "    .dataframe tbody tr th {\n",
       "        vertical-align: top;\n",
       "    }\n",
       "\n",
       "    .dataframe thead th {\n",
       "        text-align: right;\n",
       "    }\n",
       "</style>\n",
       "<table border=\"1\" class=\"dataframe\">\n",
       "  <thead>\n",
       "    <tr style=\"text-align: right;\">\n",
       "      <th></th>\n",
       "      <th>date</th>\n",
       "      <th>title</th>\n",
       "      <th>sentiment</th>\n",
       "      <th>Compound</th>\n",
       "      <th>positive</th>\n",
       "      <th>Negative</th>\n",
       "      <th>Neutral</th>\n",
       "    </tr>\n",
       "  </thead>\n",
       "  <tbody>\n",
       "    <tr>\n",
       "      <th>0</th>\n",
       "      <td>2020-09-14</td>\n",
       "      <td>Sanofi's Dupixent Gets Breakthrough Status for...</td>\n",
       "      <td>1</td>\n",
       "      <td>0.0000</td>\n",
       "      <td>0.000</td>\n",
       "      <td>0.000</td>\n",
       "      <td>1.000</td>\n",
       "    </tr>\n",
       "    <tr>\n",
       "      <th>1</th>\n",
       "      <td>2020-11-09</td>\n",
       "      <td>Sanofi : Information concerning the total numb...</td>\n",
       "      <td>0</td>\n",
       "      <td>0.3612</td>\n",
       "      <td>0.241</td>\n",
       "      <td>0.000</td>\n",
       "      <td>0.759</td>\n",
       "    </tr>\n",
       "    <tr>\n",
       "      <th>2</th>\n",
       "      <td>2020-11-09</td>\n",
       "      <td>Has Sanofi (SNY) Outpaced Other Medical Stocks...</td>\n",
       "      <td>1</td>\n",
       "      <td>0.0000</td>\n",
       "      <td>0.000</td>\n",
       "      <td>0.000</td>\n",
       "      <td>1.000</td>\n",
       "    </tr>\n",
       "    <tr>\n",
       "      <th>3</th>\n",
       "      <td>2020-11-09</td>\n",
       "      <td>7 Solid Low Price-to-Sales Picks With Room for...</td>\n",
       "      <td>1</td>\n",
       "      <td>0.2732</td>\n",
       "      <td>0.372</td>\n",
       "      <td>0.186</td>\n",
       "      <td>0.442</td>\n",
       "    </tr>\n",
       "    <tr>\n",
       "      <th>4</th>\n",
       "      <td>2020-11-09</td>\n",
       "      <td>Big Pharma wages stealth war on drug price wat...</td>\n",
       "      <td>-1</td>\n",
       "      <td>-0.6369</td>\n",
       "      <td>0.000</td>\n",
       "      <td>0.426</td>\n",
       "      <td>0.574</td>\n",
       "    </tr>\n",
       "  </tbody>\n",
       "</table>\n",
       "</div>"
      ],
      "text/plain": [
       "         date                                              title  sentiment  \\\n",
       "0  2020-09-14  Sanofi's Dupixent Gets Breakthrough Status for...          1   \n",
       "1  2020-11-09  Sanofi : Information concerning the total numb...          0   \n",
       "2  2020-11-09  Has Sanofi (SNY) Outpaced Other Medical Stocks...          1   \n",
       "3  2020-11-09  7 Solid Low Price-to-Sales Picks With Room for...          1   \n",
       "4  2020-11-09  Big Pharma wages stealth war on drug price wat...         -1   \n",
       "\n",
       "   Compound  positive  Negative  Neutral  \n",
       "0    0.0000     0.000     0.000    1.000  \n",
       "1    0.3612     0.241     0.000    0.759  \n",
       "2    0.0000     0.000     0.000    1.000  \n",
       "3    0.2732     0.372     0.186    0.442  \n",
       "4   -0.6369     0.000     0.426    0.574  "
      ]
     },
     "execution_count": 12,
     "metadata": {},
     "output_type": "execute_result"
    }
   ],
   "source": [
    "df.head()"
   ]
  },
  {
   "cell_type": "markdown",
   "metadata": {},
   "source": [
    "We need to get the stock prices for SANOFI. We will get it from Yahoo Finance.\n",
    "the main goal is to predict if the price increase or decrease"
   ]
  },
  {
   "cell_type": "code",
   "execution_count": 13,
   "metadata": {},
   "outputs": [],
   "source": [
    "data = pd.read_csv(\"history_stock_Sanofi.csv\")\n",
    "data = data.drop([\"Unnamed: 0\", \"Dividends\"], axis=1)"
   ]
  },
  {
   "cell_type": "code",
   "execution_count": 14,
   "metadata": {},
   "outputs": [
    {
     "data": {
      "text/html": [
       "<div>\n",
       "<style scoped>\n",
       "    .dataframe tbody tr th:only-of-type {\n",
       "        vertical-align: middle;\n",
       "    }\n",
       "\n",
       "    .dataframe tbody tr th {\n",
       "        vertical-align: top;\n",
       "    }\n",
       "\n",
       "    .dataframe thead th {\n",
       "        text-align: right;\n",
       "    }\n",
       "</style>\n",
       "<table border=\"1\" class=\"dataframe\">\n",
       "  <thead>\n",
       "    <tr style=\"text-align: right;\">\n",
       "      <th></th>\n",
       "      <th>date</th>\n",
       "      <th>Open</th>\n",
       "      <th>High</th>\n",
       "      <th>Low</th>\n",
       "      <th>Close</th>\n",
       "      <th>Volume</th>\n",
       "    </tr>\n",
       "  </thead>\n",
       "  <tbody>\n",
       "    <tr>\n",
       "      <th>0</th>\n",
       "      <td>2010-09-30</td>\n",
       "      <td>22.62</td>\n",
       "      <td>22.68</td>\n",
       "      <td>22.22</td>\n",
       "      <td>22.34</td>\n",
       "      <td>1915100</td>\n",
       "    </tr>\n",
       "    <tr>\n",
       "      <th>1</th>\n",
       "      <td>2010-10-01</td>\n",
       "      <td>22.42</td>\n",
       "      <td>22.43</td>\n",
       "      <td>22.09</td>\n",
       "      <td>22.26</td>\n",
       "      <td>3272400</td>\n",
       "    </tr>\n",
       "    <tr>\n",
       "      <th>2</th>\n",
       "      <td>2010-10-04</td>\n",
       "      <td>22.18</td>\n",
       "      <td>22.32</td>\n",
       "      <td>22.00</td>\n",
       "      <td>22.09</td>\n",
       "      <td>1727100</td>\n",
       "    </tr>\n",
       "    <tr>\n",
       "      <th>3</th>\n",
       "      <td>2010-10-05</td>\n",
       "      <td>22.75</td>\n",
       "      <td>23.12</td>\n",
       "      <td>22.68</td>\n",
       "      <td>23.03</td>\n",
       "      <td>2394700</td>\n",
       "    </tr>\n",
       "    <tr>\n",
       "      <th>4</th>\n",
       "      <td>2010-10-06</td>\n",
       "      <td>23.12</td>\n",
       "      <td>23.14</td>\n",
       "      <td>22.84</td>\n",
       "      <td>22.95</td>\n",
       "      <td>1695800</td>\n",
       "    </tr>\n",
       "  </tbody>\n",
       "</table>\n",
       "</div>"
      ],
      "text/plain": [
       "         date   Open   High    Low  Close   Volume\n",
       "0  2010-09-30  22.62  22.68  22.22  22.34  1915100\n",
       "1  2010-10-01  22.42  22.43  22.09  22.26  3272400\n",
       "2  2010-10-04  22.18  22.32  22.00  22.09  1727100\n",
       "3  2010-10-05  22.75  23.12  22.68  23.03  2394700\n",
       "4  2010-10-06  23.12  23.14  22.84  22.95  1695800"
      ]
     },
     "execution_count": 14,
     "metadata": {},
     "output_type": "execute_result"
    }
   ],
   "source": [
    "data = data.rename(columns = {'Date': 'date'})\n",
    "data.head()"
   ]
  },
  {
   "cell_type": "markdown",
   "metadata": {},
   "source": [
    "We create a new dateframe contains the stocke pricee and the news "
   ]
  },
  {
   "cell_type": "code",
   "execution_count": 15,
   "metadata": {},
   "outputs": [],
   "source": [
    "concat= df.merge(data, how = 'inner', on = 'date', left_index = True)"
   ]
  },
  {
   "cell_type": "code",
   "execution_count": 16,
   "metadata": {},
   "outputs": [
    {
     "data": {
      "text/html": [
       "<div>\n",
       "<style scoped>\n",
       "    .dataframe tbody tr th:only-of-type {\n",
       "        vertical-align: middle;\n",
       "    }\n",
       "\n",
       "    .dataframe tbody tr th {\n",
       "        vertical-align: top;\n",
       "    }\n",
       "\n",
       "    .dataframe thead th {\n",
       "        text-align: right;\n",
       "    }\n",
       "</style>\n",
       "<table border=\"1\" class=\"dataframe\">\n",
       "  <thead>\n",
       "    <tr style=\"text-align: right;\">\n",
       "      <th></th>\n",
       "      <th>date</th>\n",
       "      <th>title</th>\n",
       "      <th>sentiment</th>\n",
       "      <th>Compound</th>\n",
       "      <th>positive</th>\n",
       "      <th>Negative</th>\n",
       "      <th>Neutral</th>\n",
       "      <th>Open</th>\n",
       "      <th>High</th>\n",
       "      <th>Low</th>\n",
       "      <th>Close</th>\n",
       "      <th>Volume</th>\n",
       "    </tr>\n",
       "  </thead>\n",
       "  <tbody>\n",
       "    <tr>\n",
       "      <th>2459</th>\n",
       "      <td>2020-07-09</td>\n",
       "      <td>15 High-Yield, Low Volatility Blue-Chips For T...</td>\n",
       "      <td>1</td>\n",
       "      <td>-0.2732</td>\n",
       "      <td>0.000</td>\n",
       "      <td>0.174</td>\n",
       "      <td>0.826</td>\n",
       "      <td>51.11</td>\n",
       "      <td>51.29</td>\n",
       "      <td>50.21</td>\n",
       "      <td>50.55</td>\n",
       "      <td>795000</td>\n",
       "    </tr>\n",
       "    <tr>\n",
       "      <th>2459</th>\n",
       "      <td>2020-07-09</td>\n",
       "      <td>15 High-Yield, Low Volatility Blue-Chips For T...</td>\n",
       "      <td>1</td>\n",
       "      <td>0.0000</td>\n",
       "      <td>0.130</td>\n",
       "      <td>0.130</td>\n",
       "      <td>0.741</td>\n",
       "      <td>51.11</td>\n",
       "      <td>51.29</td>\n",
       "      <td>50.21</td>\n",
       "      <td>50.55</td>\n",
       "      <td>795000</td>\n",
       "    </tr>\n",
       "    <tr>\n",
       "      <th>2397</th>\n",
       "      <td>2020-04-09</td>\n",
       "      <td>Moderna, Pfizer, Johnson &amp; Johnson, And Others...</td>\n",
       "      <td>0</td>\n",
       "      <td>-0.2960</td>\n",
       "      <td>0.000</td>\n",
       "      <td>0.128</td>\n",
       "      <td>0.872</td>\n",
       "      <td>43.31</td>\n",
       "      <td>43.87</td>\n",
       "      <td>41.27</td>\n",
       "      <td>43.83</td>\n",
       "      <td>4459000</td>\n",
       "    </tr>\n",
       "    <tr>\n",
       "      <th>2397</th>\n",
       "      <td>2020-04-09</td>\n",
       "      <td>Scott Gottlieb discusses vaccine timeline: Thi...</td>\n",
       "      <td>0</td>\n",
       "      <td>0.4767</td>\n",
       "      <td>0.237</td>\n",
       "      <td>0.000</td>\n",
       "      <td>0.763</td>\n",
       "      <td>43.31</td>\n",
       "      <td>43.87</td>\n",
       "      <td>41.27</td>\n",
       "      <td>43.83</td>\n",
       "      <td>4459000</td>\n",
       "    </tr>\n",
       "    <tr>\n",
       "      <th>2397</th>\n",
       "      <td>2020-04-09</td>\n",
       "      <td>Vaccine Hopes Rise Again: 4 Stocks to Watch</td>\n",
       "      <td>1</td>\n",
       "      <td>0.4215</td>\n",
       "      <td>0.318</td>\n",
       "      <td>0.000</td>\n",
       "      <td>0.682</td>\n",
       "      <td>43.31</td>\n",
       "      <td>43.87</td>\n",
       "      <td>41.27</td>\n",
       "      <td>43.83</td>\n",
       "      <td>4459000</td>\n",
       "    </tr>\n",
       "  </tbody>\n",
       "</table>\n",
       "</div>"
      ],
      "text/plain": [
       "            date                                              title  \\\n",
       "2459  2020-07-09  15 High-Yield, Low Volatility Blue-Chips For T...   \n",
       "2459  2020-07-09  15 High-Yield, Low Volatility Blue-Chips For T...   \n",
       "2397  2020-04-09  Moderna, Pfizer, Johnson & Johnson, And Others...   \n",
       "2397  2020-04-09  Scott Gottlieb discusses vaccine timeline: Thi...   \n",
       "2397  2020-04-09        Vaccine Hopes Rise Again: 4 Stocks to Watch   \n",
       "\n",
       "      sentiment  Compound  positive  Negative  Neutral   Open   High    Low  \\\n",
       "2459          1   -0.2732     0.000     0.174    0.826  51.11  51.29  50.21   \n",
       "2459          1    0.0000     0.130     0.130    0.741  51.11  51.29  50.21   \n",
       "2397          0   -0.2960     0.000     0.128    0.872  43.31  43.87  41.27   \n",
       "2397          0    0.4767     0.237     0.000    0.763  43.31  43.87  41.27   \n",
       "2397          1    0.4215     0.318     0.000    0.682  43.31  43.87  41.27   \n",
       "\n",
       "      Close   Volume  \n",
       "2459  50.55   795000  \n",
       "2459  50.55   795000  \n",
       "2397  43.83  4459000  \n",
       "2397  43.83  4459000  \n",
       "2397  43.83  4459000  "
      ]
     },
     "execution_count": 16,
     "metadata": {},
     "output_type": "execute_result"
    }
   ],
   "source": [
    "concat.head()"
   ]
  },
  {
   "cell_type": "markdown",
   "metadata": {},
   "source": [
    "# Models"
   ]
  },
  {
   "cell_type": "markdown",
   "metadata": {},
   "source": [
    "We only have to select the numercis values  to make the predictions "
   ]
  },
  {
   "cell_type": "code",
   "execution_count": 18,
   "metadata": {},
   "outputs": [
    {
     "data": {
      "text/html": [
       "<div>\n",
       "<style scoped>\n",
       "    .dataframe tbody tr th:only-of-type {\n",
       "        vertical-align: middle;\n",
       "    }\n",
       "\n",
       "    .dataframe tbody tr th {\n",
       "        vertical-align: top;\n",
       "    }\n",
       "\n",
       "    .dataframe thead th {\n",
       "        text-align: right;\n",
       "    }\n",
       "</style>\n",
       "<table border=\"1\" class=\"dataframe\">\n",
       "  <thead>\n",
       "    <tr style=\"text-align: right;\">\n",
       "      <th></th>\n",
       "      <th>sentiment</th>\n",
       "      <th>Compound</th>\n",
       "      <th>positive</th>\n",
       "      <th>Negative</th>\n",
       "      <th>Neutral</th>\n",
       "      <th>Open</th>\n",
       "      <th>High</th>\n",
       "      <th>Low</th>\n",
       "      <th>Volume</th>\n",
       "    </tr>\n",
       "  </thead>\n",
       "  <tbody>\n",
       "    <tr>\n",
       "      <th>2459</th>\n",
       "      <td>1</td>\n",
       "      <td>-0.2732</td>\n",
       "      <td>0.000</td>\n",
       "      <td>0.174</td>\n",
       "      <td>0.826</td>\n",
       "      <td>51.11</td>\n",
       "      <td>51.29</td>\n",
       "      <td>50.21</td>\n",
       "      <td>795000</td>\n",
       "    </tr>\n",
       "    <tr>\n",
       "      <th>2459</th>\n",
       "      <td>1</td>\n",
       "      <td>0.0000</td>\n",
       "      <td>0.130</td>\n",
       "      <td>0.130</td>\n",
       "      <td>0.741</td>\n",
       "      <td>51.11</td>\n",
       "      <td>51.29</td>\n",
       "      <td>50.21</td>\n",
       "      <td>795000</td>\n",
       "    </tr>\n",
       "    <tr>\n",
       "      <th>2397</th>\n",
       "      <td>0</td>\n",
       "      <td>-0.2960</td>\n",
       "      <td>0.000</td>\n",
       "      <td>0.128</td>\n",
       "      <td>0.872</td>\n",
       "      <td>43.31</td>\n",
       "      <td>43.87</td>\n",
       "      <td>41.27</td>\n",
       "      <td>4459000</td>\n",
       "    </tr>\n",
       "    <tr>\n",
       "      <th>2397</th>\n",
       "      <td>0</td>\n",
       "      <td>0.4767</td>\n",
       "      <td>0.237</td>\n",
       "      <td>0.000</td>\n",
       "      <td>0.763</td>\n",
       "      <td>43.31</td>\n",
       "      <td>43.87</td>\n",
       "      <td>41.27</td>\n",
       "      <td>4459000</td>\n",
       "    </tr>\n",
       "    <tr>\n",
       "      <th>2397</th>\n",
       "      <td>1</td>\n",
       "      <td>0.4215</td>\n",
       "      <td>0.318</td>\n",
       "      <td>0.000</td>\n",
       "      <td>0.682</td>\n",
       "      <td>43.31</td>\n",
       "      <td>43.87</td>\n",
       "      <td>41.27</td>\n",
       "      <td>4459000</td>\n",
       "    </tr>\n",
       "  </tbody>\n",
       "</table>\n",
       "</div>"
      ],
      "text/plain": [
       "      sentiment  Compound  positive  Negative  Neutral   Open   High    Low  \\\n",
       "2459          1   -0.2732     0.000     0.174    0.826  51.11  51.29  50.21   \n",
       "2459          1    0.0000     0.130     0.130    0.741  51.11  51.29  50.21   \n",
       "2397          0   -0.2960     0.000     0.128    0.872  43.31  43.87  41.27   \n",
       "2397          0    0.4767     0.237     0.000    0.763  43.31  43.87  41.27   \n",
       "2397          1    0.4215     0.318     0.000    0.682  43.31  43.87  41.27   \n",
       "\n",
       "       Volume  \n",
       "2459   795000  \n",
       "2459   795000  \n",
       "2397  4459000  \n",
       "2397  4459000  \n",
       "2397  4459000  "
      ]
     },
     "execution_count": 18,
     "metadata": {},
     "output_type": "execute_result"
    }
   ],
   "source": [
    "df_final = concat.drop(['date', 'title', 'Close'], axis=1)\n",
    "df_final.head()"
   ]
  },
  {
   "cell_type": "code",
   "execution_count": 19,
   "metadata": {},
   "outputs": [],
   "source": [
    "X = df_final.drop('sentiment', axis=1)\n",
    "y = df_final.sentiment"
   ]
  },
  {
   "cell_type": "code",
   "execution_count": 20,
   "metadata": {},
   "outputs": [],
   "source": [
    "X_train, X_test, y_train, y_test = train_test_split(X, y, test_size = 0.3, random_state=0)"
   ]
  },
  {
   "cell_type": "code",
   "execution_count": 21,
   "metadata": {},
   "outputs": [],
   "source": [
    "model = LinearDiscriminantAnalysis().fit(X_train, y_train)"
   ]
  },
  {
   "cell_type": "code",
   "execution_count": 22,
   "metadata": {},
   "outputs": [
    {
     "data": {
      "text/plain": [
       "array([ 0,  1, -1, -1,  1,  0,  0,  0,  0,  0, -1], dtype=int64)"
      ]
     },
     "execution_count": 22,
     "metadata": {},
     "output_type": "execute_result"
    }
   ],
   "source": [
    "predictions = model.predict(X_test)\n",
    "predictions "
   ]
  },
  {
   "cell_type": "code",
   "execution_count": 23,
   "metadata": {},
   "outputs": [
    {
     "name": "stdout",
     "output_type": "stream",
     "text": [
      "              precision    recall  f1-score   support\n",
      "\n",
      "          -1       0.33      1.00      0.50         1\n",
      "           0       0.67      0.67      0.67         6\n",
      "           1       1.00      0.50      0.67         4\n",
      "\n",
      "    accuracy                           0.64        11\n",
      "   macro avg       0.67      0.72      0.61        11\n",
      "weighted avg       0.76      0.64      0.65        11\n",
      "\n"
     ]
    }
   ],
   "source": [
    "print(classification_report(y_test, predictions))"
   ]
  },
  {
   "cell_type": "code",
   "execution_count": 24,
   "metadata": {},
   "outputs": [],
   "source": [
    "results =  pd.DataFrame({'predictions':predictions, 'sentiment':y_test})"
   ]
  },
  {
   "cell_type": "code",
   "execution_count": 25,
   "metadata": {},
   "outputs": [
    {
     "data": {
      "text/html": [
       "<div>\n",
       "<style scoped>\n",
       "    .dataframe tbody tr th:only-of-type {\n",
       "        vertical-align: middle;\n",
       "    }\n",
       "\n",
       "    .dataframe tbody tr th {\n",
       "        vertical-align: top;\n",
       "    }\n",
       "\n",
       "    .dataframe thead th {\n",
       "        text-align: right;\n",
       "    }\n",
       "</style>\n",
       "<table border=\"1\" class=\"dataframe\">\n",
       "  <thead>\n",
       "    <tr style=\"text-align: right;\">\n",
       "      <th></th>\n",
       "      <th>predictions</th>\n",
       "      <th>sentiment</th>\n",
       "    </tr>\n",
       "  </thead>\n",
       "  <tbody>\n",
       "    <tr>\n",
       "      <th>2486</th>\n",
       "      <td>0</td>\n",
       "      <td>0</td>\n",
       "    </tr>\n",
       "    <tr>\n",
       "      <th>2495</th>\n",
       "      <td>1</td>\n",
       "      <td>1</td>\n",
       "    </tr>\n",
       "    <tr>\n",
       "      <th>2334</th>\n",
       "      <td>-1</td>\n",
       "      <td>-1</td>\n",
       "    </tr>\n",
       "    <tr>\n",
       "      <th>2486</th>\n",
       "      <td>-1</td>\n",
       "      <td>0</td>\n",
       "    </tr>\n",
       "    <tr>\n",
       "      <th>2493</th>\n",
       "      <td>1</td>\n",
       "      <td>1</td>\n",
       "    </tr>\n",
       "  </tbody>\n",
       "</table>\n",
       "</div>"
      ],
      "text/plain": [
       "      predictions  sentiment\n",
       "2486            0          0\n",
       "2495            1          1\n",
       "2334           -1         -1\n",
       "2486           -1          0\n",
       "2493            1          1"
      ]
     },
     "execution_count": 25,
     "metadata": {},
     "output_type": "execute_result"
    }
   ],
   "source": [
    "results.head()"
   ]
  },
  {
   "cell_type": "markdown",
   "metadata": {},
   "source": [
    "We were able to recover that 50 data vi api, which explains errors in the predictions. With more data, the prediction will be better with fewer errors. "
   ]
  }
 ],
 "metadata": {
  "hide_input": false,
  "kernelspec": {
   "display_name": "Python 3",
   "language": "python",
   "name": "python3"
  },
  "language_info": {
   "codemirror_mode": {
    "name": "ipython",
    "version": 3
   },
   "file_extension": ".py",
   "mimetype": "text/x-python",
   "name": "python",
   "nbconvert_exporter": "python",
   "pygments_lexer": "ipython3",
   "version": "3.7.7"
  },
  "toc": {
   "base_numbering": 1,
   "nav_menu": {},
   "number_sections": true,
   "sideBar": true,
   "skip_h1_title": false,
   "title_cell": "Table of Contents",
   "title_sidebar": "Contents",
   "toc_cell": false,
   "toc_position": {},
   "toc_section_display": true,
   "toc_window_display": false
  },
  "varInspector": {
   "cols": {
    "lenName": 16,
    "lenType": 16,
    "lenVar": 40
   },
   "kernels_config": {
    "python": {
     "delete_cmd_postfix": "",
     "delete_cmd_prefix": "del ",
     "library": "var_list.py",
     "varRefreshCmd": "print(var_dic_list())"
    },
    "r": {
     "delete_cmd_postfix": ") ",
     "delete_cmd_prefix": "rm(",
     "library": "var_list.r",
     "varRefreshCmd": "cat(var_dic_list()) "
    }
   },
   "types_to_exclude": [
    "module",
    "function",
    "builtin_function_or_method",
    "instance",
    "_Feature"
   ],
   "window_display": false
  }
 },
 "nbformat": 4,
 "nbformat_minor": 4
}
